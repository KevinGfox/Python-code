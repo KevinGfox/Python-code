{
 "cells": [
  {
   "cell_type": "code",
   "execution_count": 6,
   "id": "caa5edfa-96b2-4822-9d67-0e52f0fec85a",
   "metadata": {},
   "outputs": [],
   "source": [
    "class Quizz:\n",
    "    def animal(self):\n",
    "        count = 5\n",
    "        print(\"----------------------------\")\n",
    "        print()\n",
    "        print()\n",
    "        print(\"Let's go for the ANIMAL QUIZZ\")\n",
    "        print()\n",
    "        print()\n",
    "        print()\n",
    "        print(\"YOU HAVE 5 CHANCES\")\n",
    "        print()\n",
    "        if count > 0:\n",
    "            answer1= input(\"What is the fastest animal ? \")\n",
    "            while answer1 != \"cheetah\":\n",
    "                count -= 1\n",
    "                print(\"Too bad ! you still have {} chances\".format(count))\n",
    "                if count == 0:\n",
    "                    print(\"YOU LOST THE GAME\")\n",
    "                    break\n",
    "                answer1 = input(\"What is the fastest animal ?\")\n",
    "\n",
    "        if count > 0:\n",
    "            answer2 = input(\"what is the heaviest animal ? \")\n",
    "            while answer2 != \"blue whale\":\n",
    "                count -=1\n",
    "                print(\"Too bad ! you still have {} chances\".format(count))\n",
    "                if count == 0:\n",
    "                    print(\"YOU LOST THE GAME\")\n",
    "                    break\n",
    "                answer2 = input(\"what is the heaviest animal ?\")\n",
    "\n",
    "        if count > 0:\n",
    "            answer3 = input(\"What is the smallest animal ?\")\n",
    "            while answer3 != \"tartigrade\":\n",
    "                count -=1\n",
    "                print(\"Too bad ! you still have {} chances\".format(count))\n",
    "                if count == 0:\n",
    "                    print(\"YOU LOST THE GAME\")\n",
    "                    break\n",
    "                answer3 = input(\"What is the smallest animal ?\")\n",
    "\n",
    "        if count > 0:\n",
    "            print(\"CONGRATS, YOU WIN\")          \n",
    "        \n",
    "    def capital(self):\n",
    "        count = 5\n",
    "        print(\"----------------------------\")\n",
    "        print()\n",
    "        print()\n",
    "        print(\"Let's go for the CAPITAL QUIZZ\")\n",
    "        print()\n",
    "        print()\n",
    "        print()\n",
    "        print(\"YOU HAVE 5 CHANCES\")\n",
    "        print()\n",
    "        if count > 0:\n",
    "            answer1= input(\"What is the Lebanon capital ? \")\n",
    "            while answer1 != \"Beyrouth\":\n",
    "                count -= 1\n",
    "                print(\"Too bad ! you still have {} chances\".format(count))\n",
    "                if count == 0:\n",
    "                    print(\"YOU LOST THE GAME\")\n",
    "                    break\n",
    "                answer1 = input(\"What is the Lebanon capital ?\")\n",
    "\n",
    "        if count > 0:\n",
    "            answer2 = input(\"what is the Ecuador capital ? \")\n",
    "            while answer2 != \"Quito\":\n",
    "                count -=1\n",
    "                print(\"Too bad ! you still have {} chances\".format(count))\n",
    "                if count == 0:\n",
    "                    print(\"YOU LOST THE GAME\")\n",
    "                    break\n",
    "                answer2 = input(\"what is the Ecuador capital ?\")\n",
    "\n",
    "        if count > 0:\n",
    "            answer3 = input(\"What is the Germany capital ?\")\n",
    "            while answer3 != \"Berlin\":\n",
    "                count -=1\n",
    "                print(\"Too bad ! you still have {} chances\".format(count))\n",
    "                if count == 0:\n",
    "                    print(\"YOU LOST THE GAME\")\n",
    "                    break\n",
    "                answer3 = input(\"What is the Germany capital ?\")\n",
    "\n",
    "        if count > 0:\n",
    "            print(\"CONGRATS, YOU WIN\")          "
   ]
  },
  {
   "cell_type": "code",
   "execution_count": 7,
   "id": "9efb6532-bc4c-4618-8044-7ba3904b5615",
   "metadata": {},
   "outputs": [],
   "source": [
    "quiz = Quizz()"
   ]
  },
  {
   "cell_type": "code",
   "execution_count": 8,
   "id": "31b16bf6-b9da-417a-9a02-ee4297feebfe",
   "metadata": {},
   "outputs": [
    {
     "name": "stdout",
     "output_type": "stream",
     "text": [
      "----------------------------\n",
      "\n",
      "\n",
      "Let's go for the CAPITAL QUIZZ\n",
      "\n",
      "\n",
      "\n",
      "YOU HAVE 5 CHANCES\n",
      "\n"
     ]
    },
    {
     "name": "stdin",
     "output_type": "stream",
     "text": [
      "What is the Lebanon capital ?  Beyrouth\n",
      "what is the Ecuador capital ?  Salvador\n"
     ]
    },
    {
     "name": "stdout",
     "output_type": "stream",
     "text": [
      "Too bad ! you still have 4 chances\n"
     ]
    },
    {
     "name": "stdin",
     "output_type": "stream",
     "text": [
      "what is the Ecuador capital ? Quito\n",
      "What is the Germany capital ? Berlin\n"
     ]
    },
    {
     "name": "stdout",
     "output_type": "stream",
     "text": [
      "CONGRATS, YOU WIN\n"
     ]
    }
   ],
   "source": [
    "quiz.capital()"
   ]
  },
  {
   "cell_type": "code",
   "execution_count": 9,
   "id": "ab5549a8-30cd-49c8-a65f-56048b8f465a",
   "metadata": {
    "tags": []
   },
   "outputs": [
    {
     "name": "stdout",
     "output_type": "stream",
     "text": [
      "----------------------------\n",
      "\n",
      "\n",
      "Let's go for the ANIMAL QUIZZ\n",
      "\n",
      "\n",
      "\n",
      "YOU HAVE 5 CHANCES\n",
      "\n"
     ]
    },
    {
     "name": "stdin",
     "output_type": "stream",
     "text": [
      "What is the fastest animal ?  cheetah\n",
      "what is the heaviest animal ?  rhinoceros\n"
     ]
    },
    {
     "name": "stdout",
     "output_type": "stream",
     "text": [
      "Too bad ! you still have 4 chances\n"
     ]
    },
    {
     "name": "stdin",
     "output_type": "stream",
     "text": [
      "what is the heaviest animal ? girafa\n"
     ]
    },
    {
     "name": "stdout",
     "output_type": "stream",
     "text": [
      "Too bad ! you still have 3 chances\n"
     ]
    },
    {
     "name": "stdin",
     "output_type": "stream",
     "text": [
      "what is the heaviest animal ? mammouth\n"
     ]
    },
    {
     "name": "stdout",
     "output_type": "stream",
     "text": [
      "Too bad ! you still have 2 chances\n"
     ]
    },
    {
     "name": "stdin",
     "output_type": "stream",
     "text": [
      "what is the heaviest animal ? whale\n"
     ]
    },
    {
     "name": "stdout",
     "output_type": "stream",
     "text": [
      "Too bad ! you still have 1 chances\n"
     ]
    },
    {
     "name": "stdin",
     "output_type": "stream",
     "text": [
      "what is the heaviest animal ? blue whale\n",
      "What is the smallest animal ? tartiflette\n"
     ]
    },
    {
     "name": "stdout",
     "output_type": "stream",
     "text": [
      "Too bad ! you still have 0 chances\n",
      "YOU LOST THE GAME\n"
     ]
    }
   ],
   "source": [
    "quiz.animal()"
   ]
  },
  {
   "cell_type": "code",
   "execution_count": null,
   "id": "a2afd664-912e-4bd8-a4ba-2009344b3be4",
   "metadata": {},
   "outputs": [],
   "source": []
  }
 ],
 "metadata": {
  "kernelspec": {
   "display_name": "Python 3 (ipykernel)",
   "language": "python",
   "name": "python3"
  },
  "language_info": {
   "codemirror_mode": {
    "name": "ipython",
    "version": 3
   },
   "file_extension": ".py",
   "mimetype": "text/x-python",
   "name": "python",
   "nbconvert_exporter": "python",
   "pygments_lexer": "ipython3",
   "version": "3.9.7"
  }
 },
 "nbformat": 4,
 "nbformat_minor": 5
}
